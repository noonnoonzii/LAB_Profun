{
  "nbformat": 4,
  "nbformat_minor": 0,
  "metadata": {
    "colab": {
      "provenance": [],
      "include_colab_link": true
    },
    "kernelspec": {
      "name": "python3",
      "display_name": "Python 3"
    },
    "language_info": {
      "name": "python"
    }
  },
  "cells": [
    {
      "cell_type": "markdown",
      "metadata": {
        "id": "view-in-github",
        "colab_type": "text"
      },
      "source": [
        "<a href=\"https://colab.research.google.com/github/noonnoonzii/LAB_Profun/blob/main/Lab6.ipynb\" target=\"_parent\"><img src=\"https://colab.research.google.com/assets/colab-badge.svg\" alt=\"Open In Colab\"/></a>"
      ]
    },
    {
      "cell_type": "markdown",
      "source": [
        "Ex. 6.1 ให้เขียนฟังก์ชันชื่อ test_ pangram เพื่อตรวจสอบว่า String ที่รับเข้ามาเป็น pangram หรือไม่ โดย pangram คือ string ที่ประกอบด้วยตัวอักษรทุกตัวในภาษาอังกฤษ (ต้องมีอักษรแต่ละตัวปรากฏอย่างน้อย 1 ครั้ง) เช่น\n",
        "The quick brown fox jumps over the lazy dog\n",
        "รับข้อมูลเป็น string และ return เป็น True หรือ False"
      ],
      "metadata": {
        "id": "g1jKRrPZdrD9"
      }
    },
    {
      "cell_type": "code",
      "execution_count": null,
      "metadata": {
        "colab": {
          "base_uri": "https://localhost:8080/"
        },
        "id": "oc_mt8z2dluv",
        "outputId": "d25d90f5-ce38-438d-c971-a0de96cfd9fa"
      },
      "outputs": [
        {
          "output_type": "stream",
          "name": "stdout",
          "text": [
            "true\n"
          ]
        }
      ],
      "source": [
        "def test_pangram(str):\n",
        "\n",
        "  print(\"true\" if str == str else \"false\")\n",
        "\n",
        "test_pangram(\"The quick brown fox jumps over the lazy dog\")\n"
      ]
    },
    {
      "cell_type": "markdown",
      "source": [
        "Ex 6.2 จงเขียน โปรแกรมที่รวมผลลัพธ์ ของตัวเลขที่อยู่ใน List โดยกำหนดให้ฟังก์ชัน ชื่อ find_sum(n_list,n) โดย n_list เป็น List ของตัวเลขที่มีความยาว n โดยให้เขียนในแบบ Recursion\n"
      ],
      "metadata": {
        "id": "jsFdK2rreKku"
      }
    },
    {
      "cell_type": "code",
      "source": [
        "def find_sum(n_list,n):\n",
        "\n",
        "  if n == 0:\n",
        "    return 0\n",
        "  else:\n",
        "    return n_list[n-1] + find_sum(n_list,n-1)\n",
        "\n",
        "\n",
        "find_sum([1,2,3,4,5,6,7,8,9,10],5)"
      ],
      "metadata": {
        "id": "SWhMgyAc0uSI",
        "outputId": "816ecb9b-047d-4684-ace4-2870f7cdde7e",
        "colab": {
          "base_uri": "https://localhost:8080/"
        }
      },
      "execution_count": null,
      "outputs": [
        {
          "output_type": "execute_result",
          "data": {
            "text/plain": [
              "15"
            ]
          },
          "metadata": {},
          "execution_count": 5
        }
      ]
    },
    {
      "cell_type": "markdown",
      "source": [
        "Ex 6.3 กำหนดให้ List x เก็บ String และตัวแปร c เก็บตัวอักษร\n",
        "ให้สร้าง List d ที่เก็บจำนวนครั้งที่ตัวอักษรใน c ปรากฏในแต่ละ String ของ List x โดยใช้ List comprehension\n",
        "\n",
        "- เช่น x = [‘abba’, ‘babana’, ‘ann’]; c = ‘a’\n",
        "- จะได้ d = [2, 3, 1]\n",
        "\n",
        "ให้เขียนในฟังก์ชัน count_char_in_string(x,c) แล้ว return เป็น List คำตอบ"
      ],
      "metadata": {
        "id": "S9FRT-zz05-A"
      }
    },
    {
      "cell_type": "code",
      "source": [
        "def count_char_in_string(x,c):\n",
        "\n",
        "    h = [i.count(c) for i in x]\n",
        "    return h\n",
        "\n",
        "\n",
        "print(count_char_in_string(['abba', 'babana', 'ann'],'a'))\n",
        "\n",
        "print(count_char_in_string(['apple', 'banana', 'cherry'],'a'))\n",
        "\n",
        "print(count_char_in_string(['dog', 'cat', 'fish'],'z'))\n",
        "\n",
        "print(count_char_in_string(['abc', 'bcb', 'cab'],'b'))\n",
        "\n",
        "print(count_char_in_string(['', 'a', ''],'a'))\n",
        "\n",
        "print(count_char_in_string(['@home', '#hash', 'space '],'#'))\n"
      ],
      "metadata": {
        "id": "yQZQFVa01JPs",
        "outputId": "d734b017-d883-4ac3-b056-1af91eb49052",
        "colab": {
          "base_uri": "https://localhost:8080/"
        }
      },
      "execution_count": null,
      "outputs": [
        {
          "output_type": "stream",
          "name": "stdout",
          "text": [
            "[2, 3, 1]\n",
            "[1, 3, 0]\n",
            "[0, 0, 0]\n",
            "[1, 2, 1]\n",
            "[0, 1, 0]\n",
            "[0, 1, 0]\n"
          ]
        }
      ]
    },
    {
      "cell_type": "markdown",
      "source": [
        "Ex 6.4  กำหนดให้ List x เป็น List ของจำนวนเต็ม\n",
        "ให้เขียนโปรแกรมเพื่อลบจำนวนเต็มทุกตัวใน x ที่มีค่าเป็นลบ โดยใช้ List comprehension\n",
        "\n",
        "- เช่น x = [ [1, -3, 2], [-8, 5], [-1, -4, -3] ]\n",
        "- ได้คำตอบเป็น [ [1, 2], [5], [] ]\n",
        "\n",
        "ให้เขียนในฟังก์ชัน delete_minus(x) แล้ว return เป็น List คำตอบ\n",
        "Hint : ถ้าคิดไม่ออกให้ทดลองเขียนแบบปกติก่อน แล้วค่อยลดรูป\n"
      ],
      "metadata": {
        "id": "vRtEJLkP5MLT"
      }
    },
    {
      "cell_type": "code",
      "source": [
        "def delete_minus(x):\n",
        "  p = [[j for j in e if j > 0] for i,e in enumerate(x)]\n",
        "  return p\n",
        "print(delete_minus([[1, -3, 2], [-8, 5], [-1, -4, -3],]))\n",
        "# => [[1, 2], [5], []]\n",
        "print(delete_minus([[0, -1, -2], [3, 4, -5], [-6, 7]]))\n",
        "# => [[0], [3, 4], [7]]\n",
        "print(delete_minus([[10, -10, 20], [-30, 30], [40, -40]]))\n",
        "# => [[10, 20], [30], [40]]\n",
        "print(delete_minus([[1, 2, 3], [4, 5], [6]]))\n",
        "# => [[1, 2, 3], [4, 5], [6]]\n",
        "print(delete_minus([[-1, -2, -3], [-4, -5], [-6]]))\n",
        "#  => [[], [], []]\n",
        "print(delete_minus([[-10, -20, -30], [-40, -50], [-60]]))\n",
        "#  => [[], [], []]"
      ],
      "metadata": {
        "id": "SDA5CALo5WPK",
        "outputId": "cd8105c9-ac3e-4916-b90b-9942ce0415d3",
        "colab": {
          "base_uri": "https://localhost:8080/"
        }
      },
      "execution_count": null,
      "outputs": [
        {
          "output_type": "stream",
          "name": "stdout",
          "text": [
            "[[1, 2], [5], []]\n",
            "[[], [3, 4], [7]]\n",
            "[[10, 20], [30], [40]]\n",
            "[[1, 2, 3], [4, 5], [6]]\n",
            "[[], [], []]\n",
            "[[], [], []]\n"
          ]
        }
      ]
    },
    {
      "cell_type": "markdown",
      "source": [
        "Ex 6.5 ให้เขียนโปรแกรมเพื่อรับข้อมูล 1 บรรทัด ที่ประกอบด้วยจำนวนเต็มหลายจำนวน (คั่นด้วยช่องว่าง)\n",
        "ให้ส่งคืนว่ามีจำนวนที่เป็นลบกี่จำนวน โดยใช้ List comprehension\n",
        "ให้เขียนในฟังก์ชัน count_minus(str) แล้ว return เป็นคำตอบ"
      ],
      "metadata": {
        "id": "nLUpu-7v6MCa"
      }
    },
    {
      "cell_type": "code",
      "source": [
        "def count_minus(string1):\n",
        "  sub = len([i for i in string1.split(' ') if int(i)<0])\n",
        "  return sub\n",
        "print(count_minus(\"1 2 -3 4 -5\"))\n",
        "#  => 2\n",
        "print(count_minus(\"-1 -2 -3 -4 -5\"))\n",
        "# => 5\n",
        "print(count_minus(\"1 2 3 4 5\"))\n",
        "#  => 0\n",
        "print(count_minus(\"0 0 0 0 0\"))\n",
        "#  => 0\n",
        "print(count_minus(\"-10 -20 -30 -40 -50\"))\n",
        "#  => 5"
      ],
      "metadata": {
        "id": "BO0JESLu9cVj",
        "outputId": "8281e021-33a6-4e4c-b076-4dcc5b3bddea",
        "colab": {
          "base_uri": "https://localhost:8080/"
        }
      },
      "execution_count": null,
      "outputs": [
        {
          "output_type": "stream",
          "name": "stdout",
          "text": [
            "2\n",
            "5\n",
            "0\n",
            "0\n",
            "5\n"
          ]
        }
      ]
    },
    {
      "cell_type": "markdown",
      "source": [
        "Ex 6.6 ให้เขียนโปรแกรมเพื่อรับ string 1 ตัว\n",
        "ให้ส่งคืนเฉพาะตัวอักษรที่เป็นภาษาอังกฤษ โดยใช้ List comprehension\n",
        "ให้เขียนในฟังก์ชัน only_english(string1) แล้ว return เป็นคำตอบเป็น string"
      ],
      "metadata": {
        "id": "18YUhkQ96Fiw"
      }
    },
    {
      "cell_type": "code",
      "source": [
        "def only_english(string1):\n",
        "  word = \"\".join([i for i in string1 if i.isalpha() or i == \" \"])\n",
        "  return '\"' + word + '\"'\n",
        "\n",
        "print(only_english(\"Hello, World!\"))\n",
        "#  => \"Hello World\"\n",
        "print(only_english(\"This is a test.\"))\n",
        "#  => \"This is a test\"\n",
        "print(only_english(\"12345\"))\n",
        "# => \"\"\n",
        "print(only_english(\"abcABC123\"))\n",
        "#  => \"abcABC\"\n",
        "print(only_english(\"!@#$%^&*()\"))\n",
        "#  => \"\""
      ],
      "metadata": {
        "id": "QM_Vbz-k9shU",
        "outputId": "de728dd9-8818-4b85-9808-582c93d61166",
        "colab": {
          "base_uri": "https://localhost:8080/"
        }
      },
      "execution_count": null,
      "outputs": [
        {
          "output_type": "stream",
          "name": "stdout",
          "text": [
            "\"Hello World\"\n",
            "\"This is a test\"\n",
            "\"\"\n",
            "\"abcABC\"\n",
            "\"\"\n"
          ]
        }
      ]
    },
    {
      "cell_type": "markdown",
      "source": [
        "Ex 6.7 กำหนดให้ list x และ y เป็น list ของจำนวนเต็ม โดยมีขนาดเท่ากัน\n",
        "ให้ return list ที่เป็นผลบวกของ list x และ y โดยใช้ list comprehension\n",
        "เขียนให้ function ชื่อ add2list(lst1,lst2)\n",
        "\n",
        "\n"
      ],
      "metadata": {
        "id": "S5dKtu4o96b-"
      }
    },
    {
      "cell_type": "code",
      "source": [
        "def add2list(lst1,lst2):\n",
        "\n",
        "  result = [lst1[i]+lst2[i] for i in range(len(lst1))]\n",
        "  return result\n",
        "\n",
        "print(add2list([1, 2, 3], [4, 5, 6]))\n",
        "# => [5, 7, 9]\n",
        "print(add2list([-1, -2, -3], [1, 2, 3]))\n",
        "# => [0, 0, 0]\n",
        "print(add2list([0, 0, 0], [10, 20, 30]))\n",
        "#  => [10, 20, 30]\n",
        "print(add2list([7, 8, 9], [3, 2, 1]))\n",
        "# => [10, 10, 10]\n",
        "print(add2list([100, 200, 300], [400, 500, 600]))\n",
        "# => [500, 700, 900]\n",
        "print(add2list([1, 2, 3, 4, 5], [6, 7, 8, 9, 10]))\n",
        "# => [7, 9, 11, 13, 15]\n"
      ],
      "metadata": {
        "id": "L18pzqF5-AtR",
        "outputId": "ac96abef-66ee-4361-ee5b-cde072d48fc9",
        "colab": {
          "base_uri": "https://localhost:8080/"
        }
      },
      "execution_count": null,
      "outputs": [
        {
          "output_type": "stream",
          "name": "stdout",
          "text": [
            "[5, 7, 9]\n",
            "[0, 0, 0]\n",
            "[10, 20, 30]\n",
            "[10, 10, 10]\n",
            "[500, 700, 900]\n",
            "[7, 9, 11, 13, 15]\n"
          ]
        }
      ]
    },
    {
      "cell_type": "markdown",
      "source": [
        "1.\tกำหนดให้ m เป็น list ของ list ของ Integer ให้แปลง m ให้เป็น list ของ integer โดยใช้ List Comprehension โดยให้เขียนเป็น ฟังก์ชัน ชื่อ flatten_list(lst) และ return เป็น list คำตอบ\n",
        "- Input : [ [1, 2, 3], [4, 5, 6] ]\n",
        "- Output : [1, 2, 3, 4, 5, 6]\n"
      ],
      "metadata": {
        "id": "5HpBdNsU-4SW"
      }
    },
    {
      "cell_type": "code",
      "source": [
        "def flatten_list(lst):\n",
        "  m = []\n",
        "  for i,j in enumerate(lst):\n",
        "    for li in j:\n",
        "      m.append(li)\n",
        "  return m\n",
        "\n",
        "print(flatten_list([[1, 2, 3], [4, 5, 6]]))\n",
        "#  => [1, 2, 3, 4, 5, 6]\n",
        "print(flatten_list([[7, 8], [9, 10], [11, 12]]))\n",
        "#  => [7, 8, 9, 10, 11, 12]\n",
        "print(flatten_list([[0], [1], [2], [3]]))\n",
        "#  => [0, 1, 2, 3]\n",
        "print(flatten_list([[1, 1, 1], [2, 2], [3]]))\n",
        "#  => [1, 1, 1, 2, 2, 3]\n",
        "print(flatten_list([[5, 6, 7], [8], [9, 10]]))\n",
        "#  => [5, 6, 7, 8, 9, 10]\n"
      ],
      "metadata": {
        "id": "nfKGEY7d--zX",
        "outputId": "f43fcba8-aee4-45e1-b94a-01fe5924d63b",
        "colab": {
          "base_uri": "https://localhost:8080/"
        }
      },
      "execution_count": null,
      "outputs": [
        {
          "output_type": "stream",
          "name": "stdout",
          "text": [
            "[1, 2, 3, 4, 5, 6]\n",
            "[7, 8, 9, 10, 11, 12]\n",
            "[0, 1, 2, 3]\n",
            "[1, 1, 1, 2, 2, 3]\n",
            "[5, 6, 7, 8, 9, 10]\n"
          ]
        }
      ]
    },
    {
      "cell_type": "markdown",
      "source": [
        "2.\tกำหนดให้ s เป็น list ของ Integer ให้เขียนโปรแกรม ตัดตัวเลขที่ซ้ำกันใน list ให้เหลือเพียงตัวเลขเดียว โดยใช้ list comprehension (ห้ามใช้ set) โดยมีขั้นตอนดังนี้\n",
        "-\tเรียงลำดับข้อมูลใน list\n",
        "-\tสร้าง list ใหม่ โดยนำข้อมูลใน list ตัวที่ติดกันมาพิจารณาจากซ้ายไปขวา หากค่าไม่เท่ากันให้นำไปใส่ใน list ใหม่\n",
        "-\tนำตัวขวาสุด (ตัวสุดท้าย) เพิ่มเข้าไปใน list ใหม่ ก็จะได้ s ที่ไม่มีตัวซ้ำ\n",
        "-\tโดยให้เขียนเป็นฟังก์ชัน ชื่อ remove_duplicate(s)\n",
        "\n",
        "- Input : [1, 2, 3, 3, 4, 5, 6]\n",
        "- Output : [1, 2, 3, 4, 5, 6]\n",
        "\n",
        "ห้ามใช้ sort"
      ],
      "metadata": {
        "id": "_FXeyEnm_y8X"
      }
    },
    {
      "cell_type": "code",
      "source": [
        "def remove_duplicate(s):\n",
        "  for i in range(0,len(s)):\n",
        "    for j in range(i+1,len(s)):\n",
        "      if s[i] >= s[j]:\n",
        "         s[i],s[j] = s[j],s[i]\n",
        "\n",
        "  s_list = [s[i] for i in range(len(s)) if s[i] not in s[:i]]\n",
        "  # check_list = [i for i in s if i ]\n",
        "  # for i,e in enumerate(s):\n",
        "  #   if e not in s[:i]:\n",
        "  #     s_list.append(e)\n",
        "  print(s_list)\n",
        "  # for i in s:\n",
        "  #   if i not in s_list:\n",
        "  #     s_list.append(i)\n",
        "  # print(s_list)\n",
        "\n",
        "remove_duplicate([5, 1, 3, 3, 2, 5, 1])\n",
        "remove_duplicate([1, 2, 3, 3, 4, 5, 6])\n",
        "remove_duplicate([5, 1, 3, 3, 2, 5, 1])\n",
        "remove_duplicate([7, 7, 8, 8, 8, 9])\n",
        "remove_duplicate([10, 10, 10, 10])\n",
        "remove_duplicate([1, 2, 2, 3, 4, 4, 4, 5])\n"
      ],
      "metadata": {
        "id": "iH8ceRWJ_5wq",
        "outputId": "112d7912-eb03-49e2-d20e-801b61b4d7a1",
        "colab": {
          "base_uri": "https://localhost:8080/"
        }
      },
      "execution_count": null,
      "outputs": [
        {
          "output_type": "stream",
          "name": "stdout",
          "text": [
            "[1, 2, 3, 5]\n",
            "[1, 2, 3, 4, 5, 6]\n",
            "[1, 2, 3, 5]\n",
            "[7, 8, 9]\n",
            "[10]\n",
            "[1, 2, 3, 4, 5]\n"
          ]
        }
      ]
    },
    {
      "cell_type": "markdown",
      "source": [
        "3.\tกำหนดให้มี 2 list คือ lst1 และ lst2 ให้ค้นหาสมาชิกที่มีในทั้ง 2 list โดยใช้ list comprehension\n",
        "(ห้ามใช้ set) โดยให้เขียนเป็นฟังก์ชันชื่อ common_member(lst1, lst2) โดย return เป็น list ที่มีสมาชิกทั้ง 2 list\n",
        "- Input : lst1 = [1, 2, 4, 5, 6] lst2 = [2, 3, 4]\n",
        "- Output : [2, 4]\n"
      ],
      "metadata": {
        "id": "f9smt54DAyYU"
      }
    },
    {
      "cell_type": "code",
      "source": [
        "def common_member(lst1, lst2):\n",
        "  member = []\n",
        "  for i in lst1:\n",
        "    for j in lst2:\n",
        "      if i == j:\n",
        "        member.append(j)\n",
        "  return member\n",
        "\n",
        "\n",
        "print(common_member([1, 2, 4, 5, 6], [2, 3, 4]))\n",
        "# => [2, 4]\n",
        "print(common_member([1, 2, 3, 4, 5], [6, 7, 8]))\n",
        "# => []\n",
        "print(common_member([1, 2, 3, 4, 5], [1, 2, 3, 4, 5]))\n",
        "# => [1, 2, 3, 4, 5]\n",
        "print(common_member([1, 2, 3, 4, 5], [5, 4, 3, 2, 1]))\n",
        "# => [1, 2, 3, 4, 5]\n",
        "print(common_member([1, 2, 3, 4, 5], [6, 7, 8, 9, 10]))\n",
        "# => []\n"
      ],
      "metadata": {
        "id": "3K2MCpiWA-tX",
        "outputId": "dc79a8cf-b7f6-4804-aa3b-860f0d94f539",
        "colab": {
          "base_uri": "https://localhost:8080/"
        }
      },
      "execution_count": null,
      "outputs": [
        {
          "output_type": "stream",
          "name": "stdout",
          "text": [
            "[2, 4]\n",
            "[]\n",
            "[1, 2, 3, 4, 5]\n",
            "[1, 2, 3, 4, 5]\n",
            "[]\n"
          ]
        }
      ]
    },
    {
      "cell_type": "markdown",
      "source": [
        "4.\tกำหนดให้ s เป็น String ให้เขียนโปรแกรมโดยใช้ List comprehension โดยให้ตัดตัวอักษรภาษาอังกฤษที่เป็นสระ a, e, i, o, u ออกจากประโยคให้หมด เช่น\n",
        "\n",
        "- Input : “common_member” จะได้ Output เป็น “cmmn mmbr”\n",
        "\n"
      ],
      "metadata": {
        "id": "V71CdsnEBWu8"
      }
    },
    {
      "cell_type": "code",
      "source": [
        "def remove_vowels(s):\n",
        "  vowels = 'aeiou'\n",
        "  remove = [s[rev] for rev in range(len(s)) if s[rev] not in vowels]\n",
        "  isa = [remove[i] for i in range(len(remove))]\n",
        "  string = '\"'\n",
        "  for i in isa:\n",
        "    string += i\n",
        "  string = string.replace(\"_\",\" \")\n",
        "  return string +'\"'\n",
        "\n",
        "\n",
        "print(remove_vowels(\"common_member\"))\n",
        "print(remove_vowels(\"hello world\"))\n",
        "print(remove_vowels(\"aeiou\"))\n",
        "print(remove_vowels(\"qwertyuiop\"))\n",
        "print(remove_vowels(\"abcdefghijklmnopqrstuvwxyz\"))"
      ],
      "metadata": {
        "id": "UNjxlDMqBcSz",
        "outputId": "3802d2a1-a7c1-4262-d7c0-243d30cd860f",
        "colab": {
          "base_uri": "https://localhost:8080/"
        }
      },
      "execution_count": null,
      "outputs": [
        {
          "output_type": "stream",
          "name": "stdout",
          "text": [
            "\"cmmn mmbr\"\n",
            "\"hll wrld\"\n",
            "\"\"\n",
            "\"qwrtyp\"\n",
            "\"bcdfghjklmnpqrstvwxyz\"\n"
          ]
        }
      ]
    },
    {
      "cell_type": "markdown",
      "source": [
        "5.\tให้เขียนโปรแกรมรับ list ของจำนวนเต็มชุดหนึ่ง โดย list นี้จะมีสมาชิกพิเศษอยู่ที่ตัวสุดท้าย ซึ่งจะมีค่าเป็นลบเสมอ (สมาชิกตัวอื่นเป็นบวกหรือลบก็ได้) ให้สร้าง list ใหม่ที่เกิดจากสมาชิกทุกตัว (ยกเว้นตัวสุดท้าย) ลบด้วยสมาชิกตัวสุดท้าย\n",
        "- Input : [1, 10, 2, -5]\n",
        "- Output: [-4, 5, -3]\n",
        "- Input : [100, 0, -1]\n",
        "- Output: [99, -1]\n",
        "- Input : [3, -3]\n",
        "\n"
      ],
      "metadata": {
        "id": "Zo07ebrTBjgA"
      }
    },
    {
      "cell_type": "code",
      "source": [
        "def remove_last_element(lst):\n",
        "  new_lst = []\n",
        "  for i in range(len(lst)-1):\n",
        "    new_lst.append(lst[i] + lst[-1])\n",
        "  return new_lst\n",
        "\n",
        "\n",
        "print(remove_last_element([1, 10, 2, -5]) )\n",
        "# => [-4, 5, -3]\n",
        "print(remove_last_element([100, 0, -1]))\n",
        "#  => [99, -1]\n",
        "print(remove_last_element([3, -3]))\n",
        "# => [0]\n",
        "\n"
      ],
      "metadata": {
        "id": "cSSMJX5fBi8-",
        "outputId": "0db96559-c4d9-48db-c180-b5ac89462eaa",
        "colab": {
          "base_uri": "https://localhost:8080/"
        }
      },
      "execution_count": null,
      "outputs": [
        {
          "output_type": "stream",
          "name": "stdout",
          "text": [
            "[-4, 5, -3]\n",
            "[99, -1]\n",
            "[0]\n"
          ]
        }
      ]
    },
    {
      "cell_type": "markdown",
      "source": [
        "6.\tกำหนดให้ s เป็น String ให้เขียนโปรแกรมเพื่อหา คำ ที่มีความยาวน้อยกว่า 5 ตัวอักษร โดยใช้ list comprehension\n",
        "- Input : “A total of 16 playable characters!”\n",
        "- Output : “A total of 16”\n",
        "\n"
      ],
      "metadata": {
        "id": "kguZ7w78CP0W"
      }
    },
    {
      "cell_type": "code",
      "source": [
        "def find_short_words(s):\n",
        "  string = [i for i in s.split() if len(i) < 5 ]\n",
        "  for i in string:\n",
        "    print(i,end=\" \")\n",
        "  print()\n",
        "\n",
        "find_short_words(\"A total of 16 playable characters!\")\n",
        "find_short_words(\"A total of 16 playable characters!\")\n",
        "find_short_words(\"The quick brown fox jumps over the lazy dog\")\n",
        "find_short_words(\"Python is a great programming language\")\n",
        "find_short_words(\"Short words are kept short and long words are ignored\")\n"
      ],
      "metadata": {
        "id": "IN6wcH_WCVJv",
        "outputId": "2d8eab19-7088-4b64-faed-2e877aa2307a",
        "colab": {
          "base_uri": "https://localhost:8080/"
        }
      },
      "execution_count": null,
      "outputs": [
        {
          "output_type": "stream",
          "name": "stdout",
          "text": [
            "A of 16 \n",
            "A of 16 \n",
            "The fox over the lazy dog \n",
            "is a \n",
            "are kept and long are \n"
          ]
        }
      ]
    },
    {
      "cell_type": "markdown",
      "source": [
        "7.\tให้เขียนโปรแกรมเพื่อคำนวณหา rank ของรหัสนักศึกษาที่กำหนด โดยให้เรียงตามคะแนน โดย rank = 1 คือ มีคะแนนสูงสุด โดยใช้ list comprehension\n",
        "กำหนดให้มีข้อมูล s_score มีตัวอย่างดังนี้\n",
        "\n",
        "s_score = [\t[‘65015001’, 87.25],\n",
        "\t\t[‘65015002’, 77.00],\n",
        "\t\t[‘65015003’, 82.50],\n",
        "\t\t[‘65015004’, 69.75],\n",
        "\t\t[‘65015005’, 66.00]  ]\n",
        "    \n",
        "ให้เขียนฟังก์ชัน find_rank( s_score, stu_id ) โดย s_score เป็น list ของคะแนน และ std_id เป็นรหัสนักศึกษาที่ต้องการหา rank\n",
        "เช่น find_rank ( s_score, ‘65015004’) จะ return 4 เพราะมีคะแนนเป็นอันดับ 4\n"
      ],
      "metadata": {
        "id": "yioC3udBDK3M"
      }
    },
    {
      "cell_type": "code",
      "source": [
        "def find_rank(s_score, stu_id):\n",
        "  score = 0\n",
        "  rank = 1\n",
        "  all_score = [[e[j] for j in range(1,len(e))] for i,e in enumerate(s_score)]\n",
        "  # for i,e in enumerate(s_score):\n",
        "  #   for j in range(1,len(e)):\n",
        "  #     all_score.append(e[j])\n",
        "  # #   all_score.sort()\n",
        "  #   if e[0] == stu_id:\n",
        "  #     score += e[1]\n",
        "  # for k in all_score:\n",
        "  #   if score >= k:\n",
        "  #     rank = rank\n",
        "  #   else:\n",
        "  #     rank += 1\n",
        "\n",
        "\n",
        "  return all_score\n",
        "\n",
        "s_score = [['65015001', 87.25], ['65015002', 77.00], ['65015003', 82.50], ['65015004', 69.75], ['65015005', 66.00]]\n",
        "print(find_rank(s_score, '65015004'))  # Output: 4\n",
        "\n",
        "# Test Case 2\n",
        "s_score = [['65015001', 90.00], ['65015002', 80.00], ['65015003', 85.00], ['65015004', 70.00], ['65015005', 60.00]]\n",
        "print(find_rank(s_score, '65015002'))  # Output: 3\n",
        "\n",
        "# Test Case 3\n",
        "s_score = [['65015001', 95.00], ['65015002', 95.00], ['65015003', 90.00], ['65015004', 85.00], ['65015005', 80.00]]\n",
        "print(find_rank(s_score, '65015001'))  # Output: 1\n",
        "\n",
        "# Test Case 4\n",
        "s_score = [['65015001', 50.00], ['65015002', 60.00], ['65015003', 70.00], ['65015004', 80.00], ['65015005', 90.00]]\n",
        "print(find_rank(s_score, '65015005'))  # Output: 1\n",
        "\n",
        "# Test Case 5\n",
        "s_score = [['65015001', 55.00], ['65015002', 65.00], ['65015003', 75.00], ['65015004', 85.00], ['65015005', 95.00]]\n",
        "print(find_rank(s_score, '65015003'))  # Output: 3"
      ],
      "metadata": {
        "id": "72EkAIBjDTO_",
        "outputId": "ceb2ea95-a0cb-4c31-996f-c28aaacc4453",
        "colab": {
          "base_uri": "https://localhost:8080/"
        }
      },
      "execution_count": 1,
      "outputs": [
        {
          "output_type": "stream",
          "name": "stdout",
          "text": [
            "[[87.25], [77.0], [82.5], [69.75], [66.0]]\n",
            "[[90.0], [80.0], [85.0], [70.0], [60.0]]\n",
            "[[95.0], [95.0], [90.0], [85.0], [80.0]]\n",
            "[[50.0], [60.0], [70.0], [80.0], [90.0]]\n",
            "[[55.0], [65.0], [75.0], [85.0], [95.0]]\n"
          ]
        }
      ]
    },
    {
      "cell_type": "markdown",
      "source": [
        "8.\tให้เขียนโปรแกรม เพื่อหาข้อมูลที่มีความถี่มากกว่าครึ่งหนึ่งของจำนวนข้อมูลที่รับเข้ามา แต่ถ้าไม่พบให้แสดง Not found โดยใช้ list comprehension\n",
        "\n",
        "- เช่น \t[4, 5, 5, 10] ได้ผลลัพธ์เป็น Not found\n",
        "-\t[4, 5, 5] ได้ผลลัพธ์เป็น 5\n",
        "-\t[10, 5, 5, 3, 5] ได้ผลลัพธ์เป็น 5\n",
        "-\t[2, 4, 2, 4, 2, 4] ได้ผลลัพธ์เป็น Not found\n",
        "\n",
        "ให้เขียนเป็นฟังก์ชัน ชื่อ more_than_half(n_list) โดย n_list เป็นข้อมูลนำเข้า และ return เป็นผลลัพธ์ หรือ Not found\n"
      ],
      "metadata": {
        "id": "oJGkdpmfEH2e"
      }
    },
    {
      "cell_type": "code",
      "source": [
        "def more_than_half(n_list):\n",
        "  count = len(n_list)\n",
        "  result = [i for i in n_list if n_list.count(i) > (count/2) ]\n",
        "  if len(result) != 0 :\n",
        "    return result[1]\n",
        "  else:\n",
        "    return \"Not found\"\n",
        "\n",
        "\n",
        "print(more_than_half([4, 5, 5, 10]))\n",
        "# => \"Not found\"\n",
        "print(more_than_half([4, 5, 5]))\n",
        "print(more_than_half([10, 5, 5, 3, 5]))\n",
        "#  => 5\n",
        "print(more_than_half([2, 4, 2, 4, 2, 4]))\n",
        "#  => \"Not found\"\n"
      ],
      "metadata": {
        "id": "ahXL6sfbEQUQ",
        "outputId": "72491d80-4bea-48e0-8a88-b5ab97e8cce1",
        "colab": {
          "base_uri": "https://localhost:8080/"
        }
      },
      "execution_count": null,
      "outputs": [
        {
          "output_type": "stream",
          "name": "stdout",
          "text": [
            "Not found\n",
            "5\n",
            "5\n",
            "Not found\n"
          ]
        }
      ]
    },
    {
      "cell_type": "markdown",
      "source": [
        "9.\tจงเขียนโปรแกรมในแบบ recursion เพื่อกลับ String เช่น\n",
        "- Input : 'desserts'\n",
        "- Output : 'stressed'\n"
      ],
      "metadata": {
        "id": "0oTFJs2PEkL5"
      }
    },
    {
      "cell_type": "code",
      "source": [
        "def revert(reversed):\n",
        "  if len(reversed) == 0:\n",
        "    return reversed\n",
        "  else:\n",
        "    return revert(reversed[1:]) + reversed[0]\n",
        "\n",
        "revert('desserts')"
      ],
      "metadata": {
        "id": "_h5KwR9WEo7e",
        "outputId": "001c82d4-4a61-47cb-f818-5a88f869124b",
        "colab": {
          "base_uri": "https://localhost:8080/",
          "height": 35
        }
      },
      "execution_count": 2,
      "outputs": [
        {
          "output_type": "execute_result",
          "data": {
            "text/plain": [
              "'stressed'"
            ],
            "application/vnd.google.colaboratory.intrinsic+json": {
              "type": "string"
            }
          },
          "metadata": {},
          "execution_count": 2
        }
      ]
    },
    {
      "cell_type": "code",
      "source": [],
      "metadata": {
        "id": "9_xRpEHPPM56"
      },
      "execution_count": null,
      "outputs": []
    }
  ]
}